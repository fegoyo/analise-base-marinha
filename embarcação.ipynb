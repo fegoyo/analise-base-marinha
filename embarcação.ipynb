{
 "cells": [
  {
   "cell_type": "code",
   "execution_count": 67,
   "id": "91ff5740-6e2e-4cc8-aff8-8a56084c3300",
   "metadata": {},
   "outputs": [],
   "source": [
    "import pandas as pd\n",
    "import numpy as np\n",
    "import seaborn as sns\n",
    "import matplotlib.pyplot as plt\n",
    "import pandas_profiling\n",
    "import plotly.express as px\n",
    "%matplotlib inline"
   ]
  },
  {
   "cell_type": "markdown",
   "id": "b1d8a035-0f52-40d5-84f3-ccaf4a297100",
   "metadata": {},
   "source": [
    "## Embarcações mais importantes no Brasil. Fonte: Marinha do Brasil ##"
   ]
  },
  {
   "cell_type": "code",
   "execution_count": 68,
   "id": "2e26d7b0-eaca-4711-a0e0-b90417e1ed36",
   "metadata": {},
   "outputs": [
    {
     "data": {
      "text/html": [
       "<div>\n",
       "<style scoped>\n",
       "    .dataframe tbody tr th:only-of-type {\n",
       "        vertical-align: middle;\n",
       "    }\n",
       "\n",
       "    .dataframe tbody tr th {\n",
       "        vertical-align: top;\n",
       "    }\n",
       "\n",
       "    .dataframe thead th {\n",
       "        text-align: right;\n",
       "    }\n",
       "</style>\n",
       "<table border=\"1\" class=\"dataframe\">\n",
       "  <thead>\n",
       "    <tr style=\"text-align: right;\">\n",
       "      <th></th>\n",
       "      <th>DN</th>\n",
       "      <th>OM</th>\n",
       "      <th>SIGLA OM</th>\n",
       "      <th>UF</th>\n",
       "      <th>TIPO DE EMBARCAÇÃO</th>\n",
       "      <th>TOTAL DE EMBARCAÇÕES POR TIPO</th>\n",
       "    </tr>\n",
       "  </thead>\n",
       "  <tbody>\n",
       "    <tr>\n",
       "      <th>0</th>\n",
       "      <td>1º</td>\n",
       "      <td>Agência da Capitania dos Portos em Paraty</td>\n",
       "      <td>AGPRTI</td>\n",
       "      <td>RJ</td>\n",
       "      <td>Balsa</td>\n",
       "      <td>11</td>\n",
       "    </tr>\n",
       "    <tr>\n",
       "      <th>1</th>\n",
       "      <td>1º</td>\n",
       "      <td>Agência da Capitania dos Portos em Paraty</td>\n",
       "      <td>AGPRTI</td>\n",
       "      <td>RJ</td>\n",
       "      <td>Barcaça</td>\n",
       "      <td>4</td>\n",
       "    </tr>\n",
       "    <tr>\n",
       "      <th>2</th>\n",
       "      <td>1º</td>\n",
       "      <td>Agência da Capitania dos Portos em Paraty</td>\n",
       "      <td>AGPRTI</td>\n",
       "      <td>RJ</td>\n",
       "      <td>Bote</td>\n",
       "      <td>2086</td>\n",
       "    </tr>\n",
       "    <tr>\n",
       "      <th>3</th>\n",
       "      <td>1º</td>\n",
       "      <td>Agência da Capitania dos Portos em Paraty</td>\n",
       "      <td>AGPRTI</td>\n",
       "      <td>RJ</td>\n",
       "      <td>Canoa</td>\n",
       "      <td>312</td>\n",
       "    </tr>\n",
       "    <tr>\n",
       "      <th>4</th>\n",
       "      <td>1º</td>\n",
       "      <td>Agência da Capitania dos Portos em Paraty</td>\n",
       "      <td>AGPRTI</td>\n",
       "      <td>RJ</td>\n",
       "      <td>Chata</td>\n",
       "      <td>4</td>\n",
       "    </tr>\n",
       "    <tr>\n",
       "      <th>...</th>\n",
       "      <td>...</td>\n",
       "      <td>...</td>\n",
       "      <td>...</td>\n",
       "      <td>...</td>\n",
       "      <td>...</td>\n",
       "      <td>...</td>\n",
       "    </tr>\n",
       "    <tr>\n",
       "      <th>1871</th>\n",
       "      <td>9º</td>\n",
       "      <td>Capitania Fluvial de Tabatinga</td>\n",
       "      <td>CFT</td>\n",
       "      <td>AM</td>\n",
       "      <td>Passageiro</td>\n",
       "      <td>16</td>\n",
       "    </tr>\n",
       "    <tr>\n",
       "      <th>1872</th>\n",
       "      <td>9º</td>\n",
       "      <td>Capitania Fluvial de Tabatinga</td>\n",
       "      <td>CFT</td>\n",
       "      <td>AM</td>\n",
       "      <td>Passageiro / Carga Geral</td>\n",
       "      <td>18</td>\n",
       "    </tr>\n",
       "    <tr>\n",
       "      <th>1873</th>\n",
       "      <td>9º</td>\n",
       "      <td>Capitania Fluvial de Tabatinga</td>\n",
       "      <td>CFT</td>\n",
       "      <td>AM</td>\n",
       "      <td>Pesqueiro</td>\n",
       "      <td>25</td>\n",
       "    </tr>\n",
       "    <tr>\n",
       "      <th>1874</th>\n",
       "      <td>9º</td>\n",
       "      <td>Capitania Fluvial de Tabatinga</td>\n",
       "      <td>CFT</td>\n",
       "      <td>AM</td>\n",
       "      <td>Rebocador</td>\n",
       "      <td>60</td>\n",
       "    </tr>\n",
       "    <tr>\n",
       "      <th>1875</th>\n",
       "      <td>9º</td>\n",
       "      <td>Capitania Fluvial de Tabatinga</td>\n",
       "      <td>CFT</td>\n",
       "      <td>AM</td>\n",
       "      <td>Tanque (transporte de granéis líquidos)</td>\n",
       "      <td>1</td>\n",
       "    </tr>\n",
       "  </tbody>\n",
       "</table>\n",
       "<p>1876 rows × 6 columns</p>\n",
       "</div>"
      ],
      "text/plain": [
       "       DN                                         OM SIGLA OM  UF  \\\n",
       "0     1º   Agência da Capitania dos Portos em Paraty   AGPRTI  RJ   \n",
       "1     1º   Agência da Capitania dos Portos em Paraty   AGPRTI  RJ   \n",
       "2     1º   Agência da Capitania dos Portos em Paraty   AGPRTI  RJ   \n",
       "3     1º   Agência da Capitania dos Portos em Paraty   AGPRTI  RJ   \n",
       "4     1º   Agência da Capitania dos Portos em Paraty   AGPRTI  RJ   \n",
       "...   ...                                        ...      ...  ..   \n",
       "1871  9º              Capitania Fluvial de Tabatinga      CFT  AM   \n",
       "1872  9º              Capitania Fluvial de Tabatinga      CFT  AM   \n",
       "1873  9º              Capitania Fluvial de Tabatinga      CFT  AM   \n",
       "1874  9º              Capitania Fluvial de Tabatinga      CFT  AM   \n",
       "1875  9º              Capitania Fluvial de Tabatinga      CFT  AM   \n",
       "\n",
       "                           TIPO DE EMBARCAÇÃO  TOTAL DE EMBARCAÇÕES POR TIPO  \n",
       "0                                       Balsa                             11  \n",
       "1                                     Barcaça                              4  \n",
       "2                                        Bote                           2086  \n",
       "3                                       Canoa                            312  \n",
       "4                                       Chata                              4  \n",
       "...                                       ...                            ...  \n",
       "1871                               Passageiro                             16  \n",
       "1872                 Passageiro / Carga Geral                             18  \n",
       "1873                                Pesqueiro                             25  \n",
       "1874                                Rebocador                             60  \n",
       "1875  Tanque (transporte de granéis líquidos)                              1  \n",
       "\n",
       "[1876 rows x 6 columns]"
      ]
     },
     "execution_count": 68,
     "metadata": {},
     "output_type": "execute_result"
    }
   ],
   "source": [
    "marinha = pd.read_csv(\"total_tipo_emb_2020.csv\",encoding='ISO-8859-1', on_bad_lines='skip', sep=';')\n",
    "marinha"
   ]
  },
  {
   "cell_type": "code",
   "execution_count": 69,
   "id": "a4981197-9bf0-44b0-9c4e-6baffb776561",
   "metadata": {},
   "outputs": [
    {
     "name": "stdout",
     "output_type": "stream",
     "text": [
      "<class 'pandas.core.frame.DataFrame'>\n",
      "RangeIndex: 1876 entries, 0 to 1875\n",
      "Data columns (total 6 columns):\n",
      " #   Column                         Non-Null Count  Dtype \n",
      "---  ------                         --------------  ----- \n",
      " 0   DN                             1876 non-null   object\n",
      " 1   OM                             1876 non-null   object\n",
      " 2   SIGLA OM                       1876 non-null   object\n",
      " 3   UF                             1876 non-null   object\n",
      " 4   TIPO DE EMBARCAÇÃO             1876 non-null   object\n",
      " 5   TOTAL DE EMBARCAÇÕES POR TIPO  1876 non-null   int64 \n",
      "dtypes: int64(1), object(5)\n",
      "memory usage: 88.1+ KB\n"
     ]
    }
   ],
   "source": [
    "marinha.info()"
   ]
  },
  {
   "cell_type": "markdown",
   "id": "7cb27892-d6d3-44e2-8b64-fac15fd8c15b",
   "metadata": {},
   "source": [
    "# Removendo COLUNAS que não são interessantes para a análise de dados #"
   ]
  },
  {
   "cell_type": "code",
   "execution_count": 70,
   "id": "07368c7b-cb78-48b2-85cd-ed937296a865",
   "metadata": {},
   "outputs": [],
   "source": [
    "d=['OM', 'SIGLA OM', 'DN']"
   ]
  },
  {
   "cell_type": "code",
   "execution_count": 71,
   "id": "54d9756d-0e74-4881-82ba-c9bddf839afc",
   "metadata": {},
   "outputs": [
    {
     "data": {
      "text/html": [
       "<div>\n",
       "<style scoped>\n",
       "    .dataframe tbody tr th:only-of-type {\n",
       "        vertical-align: middle;\n",
       "    }\n",
       "\n",
       "    .dataframe tbody tr th {\n",
       "        vertical-align: top;\n",
       "    }\n",
       "\n",
       "    .dataframe thead th {\n",
       "        text-align: right;\n",
       "    }\n",
       "</style>\n",
       "<table border=\"1\" class=\"dataframe\">\n",
       "  <thead>\n",
       "    <tr style=\"text-align: right;\">\n",
       "      <th></th>\n",
       "      <th>UF</th>\n",
       "      <th>TIPO DE EMBARCAÇÃO</th>\n",
       "      <th>TOTAL DE EMBARCAÇÕES POR TIPO</th>\n",
       "    </tr>\n",
       "  </thead>\n",
       "  <tbody>\n",
       "    <tr>\n",
       "      <th>0</th>\n",
       "      <td>RJ</td>\n",
       "      <td>Balsa</td>\n",
       "      <td>11</td>\n",
       "    </tr>\n",
       "    <tr>\n",
       "      <th>1</th>\n",
       "      <td>RJ</td>\n",
       "      <td>Barcaça</td>\n",
       "      <td>4</td>\n",
       "    </tr>\n",
       "    <tr>\n",
       "      <th>2</th>\n",
       "      <td>RJ</td>\n",
       "      <td>Bote</td>\n",
       "      <td>2086</td>\n",
       "    </tr>\n",
       "    <tr>\n",
       "      <th>3</th>\n",
       "      <td>RJ</td>\n",
       "      <td>Canoa</td>\n",
       "      <td>312</td>\n",
       "    </tr>\n",
       "    <tr>\n",
       "      <th>4</th>\n",
       "      <td>RJ</td>\n",
       "      <td>Chata</td>\n",
       "      <td>4</td>\n",
       "    </tr>\n",
       "    <tr>\n",
       "      <th>...</th>\n",
       "      <td>...</td>\n",
       "      <td>...</td>\n",
       "      <td>...</td>\n",
       "    </tr>\n",
       "    <tr>\n",
       "      <th>1871</th>\n",
       "      <td>AM</td>\n",
       "      <td>Passageiro</td>\n",
       "      <td>16</td>\n",
       "    </tr>\n",
       "    <tr>\n",
       "      <th>1872</th>\n",
       "      <td>AM</td>\n",
       "      <td>Passageiro / Carga Geral</td>\n",
       "      <td>18</td>\n",
       "    </tr>\n",
       "    <tr>\n",
       "      <th>1873</th>\n",
       "      <td>AM</td>\n",
       "      <td>Pesqueiro</td>\n",
       "      <td>25</td>\n",
       "    </tr>\n",
       "    <tr>\n",
       "      <th>1874</th>\n",
       "      <td>AM</td>\n",
       "      <td>Rebocador</td>\n",
       "      <td>60</td>\n",
       "    </tr>\n",
       "    <tr>\n",
       "      <th>1875</th>\n",
       "      <td>AM</td>\n",
       "      <td>Tanque (transporte de granéis líquidos)</td>\n",
       "      <td>1</td>\n",
       "    </tr>\n",
       "  </tbody>\n",
       "</table>\n",
       "<p>1876 rows × 3 columns</p>\n",
       "</div>"
      ],
      "text/plain": [
       "      UF                       TIPO DE EMBARCAÇÃO  \\\n",
       "0     RJ                                    Balsa   \n",
       "1     RJ                                  Barcaça   \n",
       "2     RJ                                     Bote   \n",
       "3     RJ                                    Canoa   \n",
       "4     RJ                                    Chata   \n",
       "...   ..                                      ...   \n",
       "1871  AM                               Passageiro   \n",
       "1872  AM                 Passageiro / Carga Geral   \n",
       "1873  AM                                Pesqueiro   \n",
       "1874  AM                                Rebocador   \n",
       "1875  AM  Tanque (transporte de granéis líquidos)   \n",
       "\n",
       "      TOTAL DE EMBARCAÇÕES POR TIPO  \n",
       "0                                11  \n",
       "1                                 4  \n",
       "2                              2086  \n",
       "3                               312  \n",
       "4                                 4  \n",
       "...                             ...  \n",
       "1871                             16  \n",
       "1872                             18  \n",
       "1873                             25  \n",
       "1874                             60  \n",
       "1875                              1  \n",
       "\n",
       "[1876 rows x 3 columns]"
      ]
     },
     "execution_count": 71,
     "metadata": {},
     "output_type": "execute_result"
    }
   ],
   "source": [
    "data=marinha.drop(columns=d)\n",
    "data"
   ]
  },
  {
   "cell_type": "code",
   "execution_count": 72,
   "id": "c6b1f699-9da5-4324-ad53-dd424109fe33",
   "metadata": {},
   "outputs": [
    {
     "name": "stdout",
     "output_type": "stream",
     "text": [
      "Lancha                                  68\n",
      "Canoa                                   68\n",
      "Bote                                    67\n",
      "Moto-Aquática/similar                   67\n",
      "Balsa                                   66\n",
      "                                        ..\n",
      "Transporte Escolar                       2\n",
      "Quebra-gelo                              2\n",
      "Estimulador de Poço                      1\n",
      "Carga de Alta Velocidade (HSC Carga)     1\n",
      "Cisterna (FSU)                           1\n",
      "Name: TIPO DE EMBARCAÇÃO, Length: 68, dtype: int64\n"
     ]
    }
   ],
   "source": [
    "print(data['TIPO DE EMBARCAÇÃO'].value_counts(ascending=False))"
   ]
  },
  {
   "cell_type": "markdown",
   "id": "7a3d765d-0b63-4410-af16-20eeac44f7af",
   "metadata": {},
   "source": [
    "## AGRUPANDO A COLUNA TIPO DE EMBARCAÇÃO EM OUTROS ## "
   ]
  },
  {
   "cell_type": "code",
   "execution_count": 73,
   "id": "fb3ad19e-d83a-4ed5-a535-bf1a798ac933",
   "metadata": {},
   "outputs": [
    {
     "name": "stdout",
     "output_type": "stream",
     "text": [
      "['Pesquisa', 'Caique', 'Lançador de Linhas', 'Roll-on / Roll-off Passageiro (Ferry Boat)', 'Cábrea', 'Tanque (transporte de granéis líquidos)', 'Graneleiro', 'Petroleiro', 'Laser', 'Alvarenga', 'Apoio a Mergulho', 'Supridor (Supply)', 'Dique Flutuante', 'Plataforma Fixa', 'Apoio à Manobra', 'Transporte de Gases Liquefeitos', 'Manuseio de Âncora (AHTS)', 'Petroleiro e Químico', 'Porta-Contentor', 'Plataforma Auto-Elevável', 'Roll-on / Roll-off Carga ', 'Oceonagráfico', 'Anfíbia', 'Químico', 'Flotel', 'Floating, Production, Storage and Off-Loading Unit (FPSO)', 'Apoio a ROV', 'Transporte de Carga Pesada (Navio de Cargas Especiais)', 'Passageiro de Alta Velocidade (HSC Passageiro)', 'Multipurpose', 'Plataforma Semi-Submersível', 'Curral', 'Hidroavião', 'Manuseio de Linhas', 'Químico e Gaseiro', 'Sonda', 'Transporte Escolar', 'Quebra-gelo', 'Estimulador de Poço', 'Carga de Alta Velocidade (HSC Carga)', 'Cisterna (FSU)']\n",
      "Outras_embarcações                                449\n",
      "Canoa                                              68\n",
      "Lancha                                             68\n",
      "Bote                                               67\n",
      "Moto-Aquática/similar                              67\n",
      "Balsa                                              66\n",
      "Outros                                             63\n",
      "Passageiro                                         62\n",
      "Flutuante                                          61\n",
      "Draga                                              60\n",
      "Pesqueiro                                          60\n",
      "Rebocador                                          59\n",
      "Barcaça                                            58\n",
      "Chata                                              57\n",
      "Jet Boat                                           57\n",
      "Multicasco (Catamarã, Trimarã, Tetramarã, etc)     53\n",
      "Veleiro                                            52\n",
      "Jangada                                            50\n",
      "Empurrador                                         50\n",
      "Caiaque                                            44\n",
      "Escuna                                             43\n",
      "Batelão                                            42\n",
      "Carga Geral                                        41\n",
      "Passageiro / Carga Geral                           41\n",
      "Iate                                               39\n",
      "Traineira                                          35\n",
      "Saveiro                                            33\n",
      "Hovercraft                                         31\n",
      "Name: TIPO DE EMBARCAÇÃO, dtype: int64\n"
     ]
    }
   ],
   "source": [
    "embarcacao=data['TIPO DE EMBARCAÇÃO'].value_counts()\n",
    "\n",
    "colunas_agrupar = []\n",
    "\n",
    "for tipo_embarcacao in embarcacao.index:\n",
    "        if embarcacao[tipo_embarcacao] < 30:\n",
    "            colunas_agrupar.append(tipo_embarcacao)\n",
    "print(colunas_agrupar)\n",
    "\n",
    "for tipo_embarcacao in colunas_agrupar:\n",
    "    data.loc[data['TIPO DE EMBARCAÇÃO']==tipo_embarcacao, 'TIPO DE EMBARCAÇÃO'] = 'Outras_embarcações'\n",
    "\n",
    "print(data['TIPO DE EMBARCAÇÃO'].value_counts())"
   ]
  },
  {
   "cell_type": "markdown",
   "id": "f6d5e820-539d-4c82-af53-9053c73300b1",
   "metadata": {},
   "source": [
    "#### Removendo embarcações não comercializáveis em larga escala e/ou que foram agrupados anteriormente ####"
   ]
  },
  {
   "cell_type": "code",
   "execution_count": 74,
   "id": "1553296d-4fef-4007-b788-282f2731fc64",
   "metadata": {},
   "outputs": [
    {
     "name": "stdout",
     "output_type": "stream",
     "text": [
      "<class 'pandas.core.frame.DataFrame'>\n",
      "Int64Index: 283 entries, 9 to 1869\n",
      "Data columns (total 3 columns):\n",
      " #   Column                         Non-Null Count  Dtype \n",
      "---  ------                         --------------  ----- \n",
      " 0   UF                             283 non-null    object\n",
      " 1   TIPO DE EMBARCAÇÃO             283 non-null    object\n",
      " 2   TOTAL DE EMBARCAÇÕES POR TIPO  283 non-null    int64 \n",
      "dtypes: int64(1), object(2)\n",
      "memory usage: 8.8+ KB\n"
     ]
    }
   ],
   "source": [
    "df_remove = data.loc[(data['TIPO DE EMBARCAÇÃO']=='Outros')| (data['TIPO DE EMBARCAÇÃO']=='Hovercraft') | (data['TIPO DE EMBARCAÇÃO']=='Traineira') | (data['TIPO DE EMBARCAÇÃO']=='Passageiro / Carga Geral') | (data['TIPO DE EMBARCAÇÃO']=='Empurrador') \n",
    "                     | (data['TIPO DE EMBARCAÇÃO']=='Outras_embarcações') | (data['TIPO DE EMBARCAÇÃO']=='Carga Geral') | (data['TIPO DE EMBARCAÇÃO']=='Draga') | (data['TIPO DE EMBARCAÇÃO']=='Saveiro')\n",
    "                     | (data['TIPO DE EMBARCAÇÃO']=='Chata') | (data['TIPO DE EMBARCAÇÃO']=='Multicasco (Catamarã, Trimarã, Tetramarã, etc)') | (data['TIPO DE EMBARCAÇÃO']=='Pesqueiro') | (data['TIPO DE EMBARCAÇÃO']=='Barcaça') \n",
    "                     | (data['TIPO DE EMBARCAÇÃO']=='Balsa') | (data['TIPO DE EMBARCAÇÃO']=='Rebocador') | (data['TIPO DE EMBARCAÇÃO']=='Batelão') | (data['TIPO DE EMBARCAÇÃO']=='Flutuante')\n",
    "                     | (data['TIPO DE EMBARCAÇÃO']=='Passageiro') | (data['TIPO DE EMBARCAÇÃO']=='Caiaque') | (data['TIPO DE EMBARCAÇÃO']=='Canoa') | (data['TIPO DE EMBARCAÇÃO']=='Escuna') | (data['TIPO DE EMBARCAÇÃO']=='Jangada') | (data['TIPO DE EMBARCAÇÃO']=='Bote')]\n",
    "embarcacao_alterado = data.drop(df_remove.index)\n",
    "embarcacao_alterado.info()"
   ]
  },
  {
   "cell_type": "code",
   "execution_count": 75,
   "id": "b1644d32-a1be-449b-a9dc-673468f144ce",
   "metadata": {},
   "outputs": [
    {
     "name": "stderr",
     "output_type": "stream",
     "text": [
      "C:\\Users\\ferna.DESKTOP-GFV23K6\\anaconda3\\lib\\site-packages\\seaborn\\_decorators.py:36: FutureWarning: Pass the following variable as a keyword arg: x. From version 0.12, the only valid positional argument will be `data`, and passing other arguments without an explicit keyword will result in an error or misinterpretation.\n",
      "  warnings.warn(\n"
     ]
    },
    {
     "data": {
      "text/plain": [
       "<AxesSubplot:xlabel='TIPO DE EMBARCAÇÃO', ylabel='count'>"
      ]
     },
     "execution_count": 75,
     "metadata": {},
     "output_type": "execute_result"
    },
    {
     "data": {
      "image/png": "[encoded data removed]",
      "text/plain": [
       "<Figure size 1080x360 with 1 Axes>"
      ]
     },
     "metadata": {
      "needs_background": "light"
     },
     "output_type": "display_data"
    }
   ],
   "source": [
    "plt.figure(figsize=(15,5))\n",
    "sns.countplot('TIPO DE EMBARCAÇÃO', data=embarcacao_alterado)"
   ]
  },
  {
   "cell_type": "markdown",
   "id": "c6e26e62-36d8-49c2-a741-361e467921ea",
   "metadata": {},
   "source": [
    "- Pelo gráfico nota-se que os dois maiores registros de embarcações são: lancha e moto-aquática (jet ski)."
   ]
  },
  {
   "cell_type": "markdown",
   "id": "486d1d98-c116-4039-9832-11d86efe26c9",
   "metadata": {},
   "source": [
    "### Salvando a tabela na pasta local ###"
   ]
  },
  {
   "cell_type": "code",
   "execution_count": 76,
   "id": "6015fc0c-33f8-4ebb-bfd9-0c3ba4b5feb2",
   "metadata": {},
   "outputs": [],
   "source": [
    "writer = pd.ExcelWriter(r'D:\\embarcacao_alterado.xlsx')\n",
    "embarcacao_alterado.to_excel(writer,'DADOS', index=False)\n",
    "writer.save()"
   ]
  },
  {
   "cell_type": "markdown",
   "id": "07492cd5-e1a6-40f7-baff-a1f0fe69312a",
   "metadata": {},
   "source": [
    "#### Visualizar a tabela dinâmica ####"
   ]
  },
  {
   "cell_type": "code",
   "execution_count": 77,
   "id": "9645481b-286c-47be-afa1-eb3a48283a03",
   "metadata": {},
   "outputs": [],
   "source": [
    "table=embarcacao_alterado.pivot_table(index=['TIPO DE EMBARCAÇÃO','UF'], values=['TOTAL DE EMBARCAÇÕES POR TIPO'], aggfunc='sum', margins=True)\n"
   ]
  },
  {
   "cell_type": "code",
   "execution_count": 78,
   "id": "fa9e326c-ddbd-4097-ba55-65a4ee4abf6d",
   "metadata": {},
   "outputs": [
    {
     "data": {
      "text/html": [
       "<div>\n",
       "<style scoped>\n",
       "    .dataframe tbody tr th:only-of-type {\n",
       "        vertical-align: middle;\n",
       "    }\n",
       "\n",
       "    .dataframe tbody tr th {\n",
       "        vertical-align: top;\n",
       "    }\n",
       "\n",
       "    .dataframe thead th {\n",
       "        text-align: right;\n",
       "    }\n",
       "</style>\n",
       "<table border=\"1\" class=\"dataframe\">\n",
       "  <thead>\n",
       "    <tr style=\"text-align: right;\">\n",
       "      <th></th>\n",
       "      <th></th>\n",
       "      <th>TOTAL DE EMBARCAÇÕES POR TIPO</th>\n",
       "    </tr>\n",
       "    <tr>\n",
       "      <th>TIPO DE EMBARCAÇÃO</th>\n",
       "      <th>UF</th>\n",
       "      <th></th>\n",
       "    </tr>\n",
       "  </thead>\n",
       "  <tbody>\n",
       "    <tr>\n",
       "      <th rowspan=\"5\" valign=\"top\">Iate</th>\n",
       "      <th>AL</th>\n",
       "      <td>4</td>\n",
       "    </tr>\n",
       "    <tr>\n",
       "      <th>AM</th>\n",
       "      <td>68</td>\n",
       "    </tr>\n",
       "    <tr>\n",
       "      <th>AP</th>\n",
       "      <td>32</td>\n",
       "    </tr>\n",
       "    <tr>\n",
       "      <th>BA</th>\n",
       "      <td>93</td>\n",
       "    </tr>\n",
       "    <tr>\n",
       "      <th>CE</th>\n",
       "      <td>16</td>\n",
       "    </tr>\n",
       "    <tr>\n",
       "      <th>...</th>\n",
       "      <th>...</th>\n",
       "      <td>...</td>\n",
       "    </tr>\n",
       "    <tr>\n",
       "      <th rowspan=\"4\" valign=\"top\">Veleiro</th>\n",
       "      <th>SC</th>\n",
       "      <td>1314</td>\n",
       "    </tr>\n",
       "    <tr>\n",
       "      <th>SE</th>\n",
       "      <td>33</td>\n",
       "    </tr>\n",
       "    <tr>\n",
       "      <th>SP</th>\n",
       "      <td>3911</td>\n",
       "    </tr>\n",
       "    <tr>\n",
       "      <th>TO</th>\n",
       "      <td>7</td>\n",
       "    </tr>\n",
       "    <tr>\n",
       "      <th>All</th>\n",
       "      <th></th>\n",
       "      <td>361607</td>\n",
       "    </tr>\n",
       "  </tbody>\n",
       "</table>\n",
       "<p>121 rows × 1 columns</p>\n",
       "</div>"
      ],
      "text/plain": [
       "                       TOTAL DE EMBARCAÇÕES POR TIPO\n",
       "TIPO DE EMBARCAÇÃO UF                               \n",
       "Iate               AL                              4\n",
       "                   AM                             68\n",
       "                   AP                             32\n",
       "                   BA                             93\n",
       "                   CE                             16\n",
       "...                                              ...\n",
       "Veleiro            SC                           1314\n",
       "                   SE                             33\n",
       "                   SP                           3911\n",
       "                   TO                              7\n",
       "All                                           361607\n",
       "\n",
       "[121 rows x 1 columns]"
      ]
     },
     "execution_count": 78,
     "metadata": {},
     "output_type": "execute_result"
    }
   ],
   "source": [
    "table"
   ]
  }
 ],
 "metadata": {
  "kernelspec": {
   "display_name": "Python 3 (ipykernel)",
   "language": "python",
   "name": "python3"
  },
  "language_info": {
   "codemirror_mode": {
    "name": "ipython",
    "version": 3
   },
   "file_extension": ".py",
   "mimetype": "text/x-python",
   "name": "python",
   "nbconvert_exporter": "python",
   "pygments_lexer": "ipython3",
   "version": "3.9.7"
  }
 },
 "nbformat": 4,
 "nbformat_minor": 5
}
